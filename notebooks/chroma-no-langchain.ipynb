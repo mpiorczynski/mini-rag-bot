{
 "cells": [
  {
   "cell_type": "code",
   "execution_count": 1,
   "metadata": {},
   "outputs": [],
   "source": [
    "documents = [\n",
    "    {\n",
    "        \"id\": \"1\",\n",
    "        \"content\": \"Contact the admissions office at admissions@university.edu.\",\n",
    "        \"source\": \"https://university.edu/admissions\",\n",
    "    },\n",
    "    {\n",
    "        \"id\": \"2\",\n",
    "        \"content\": \"Enrollment deadline is June 30.\",\n",
    "        \"source\": \"https://university.edu/enrollment\",\n",
    "    },\n",
    "    {\n",
    "        \"id\": \"3\",\n",
    "        \"content\": \"The university offers Data Science, AI, and Robotics programs.\",\n",
    "        \"source\": \"https://university.edu/programs\",\n",
    "    },\n",
    "]"
   ]
  },
  {
   "cell_type": "code",
   "execution_count": 2,
   "metadata": {},
   "outputs": [
    {
     "name": "stdout",
     "output_type": "stream",
     "text": [
      "Number of documents: 3\n",
      "First document: {'id': '1', 'content': 'Contact the admissions office at admissions@university.edu.', 'source': 'https://university.edu/admissions'}\n"
     ]
    }
   ],
   "source": [
    "print(f\"Number of documents: {len(documents)}\")\n",
    "print(f\"First document: {documents[0]}\")"
   ]
  },
  {
   "cell_type": "code",
   "execution_count": 3,
   "metadata": {},
   "outputs": [
    {
     "name": "stderr",
     "output_type": "stream",
     "text": [
      "/Users/mikolajpiorczynski/miniconda3/envs/mini-rag-dev/lib/python3.12/site-packages/tqdm/auto.py:21: TqdmWarning: IProgress not found. Please update jupyter and ipywidgets. See https://ipywidgets.readthedocs.io/en/stable/user_install.html\n",
      "  from .autonotebook import tqdm as notebook_tqdm\n"
     ]
    }
   ],
   "source": [
    "from sentence_transformers import SentenceTransformer\n",
    "\n",
    "embedder_name = \"all-MiniLM-L6-v2\"\n",
    "embedder = SentenceTransformer(embedder_name, trust_remote_code=True)"
   ]
  },
  {
   "cell_type": "code",
   "execution_count": 4,
   "metadata": {},
   "outputs": [],
   "source": [
    "import chromadb\n",
    "from chromadb.config import Settings\n",
    "\n",
    "db_directory = \"data/db\"\n",
    "chroma_client = chromadb.Client(Settings(persist_directory=db_directory))\n",
    "collection = chroma_client.get_or_create_collection(\"autonomous-agents\")\n",
    "\n",
    "\n",
    "for doc in documents:\n",
    "    embedding = embedder.encode(doc[\"content\"]).tolist()\n",
    "    collection.add(\n",
    "        documents=[doc[\"content\"]],\n",
    "        metadatas=[{\"source\": doc[\"source\"]}],\n",
    "        embeddings=[embedding],\n",
    "        ids=[doc[\"id\"]],\n",
    "    )"
   ]
  },
  {
   "cell_type": "code",
   "execution_count": 5,
   "metadata": {},
   "outputs": [
    {
     "data": {
      "text/plain": [
       "{'ids': [['2']],\n",
       " 'embeddings': None,\n",
       " 'documents': [['Enrollment deadline is June 30.']],\n",
       " 'uris': None,\n",
       " 'data': None,\n",
       " 'metadatas': [[{'source': 'https://university.edu/enrollment'}]],\n",
       " 'distances': [[0.24081303179264069]],\n",
       " 'included': [<IncludeEnum.distances: 'distances'>,\n",
       "  <IncludeEnum.documents: 'documents'>,\n",
       "  <IncludeEnum.metadatas: 'metadatas'>]}"
      ]
     },
     "execution_count": 5,
     "metadata": {},
     "output_type": "execute_result"
    }
   ],
   "source": [
    "query = \"When is the enrollment deadline?\"\n",
    "query_embedding = embedder.encode(query).tolist()\n",
    "\n",
    "search_results = collection.query(query_embeddings=[query_embedding], n_results=1)\n",
    "search_results"
   ]
  }
 ],
 "metadata": {
  "kernelspec": {
   "display_name": "mini-rag-dev",
   "language": "python",
   "name": "python3"
  },
  "language_info": {
   "codemirror_mode": {
    "name": "ipython",
    "version": 3
   },
   "file_extension": ".py",
   "mimetype": "text/x-python",
   "name": "python",
   "nbconvert_exporter": "python",
   "pygments_lexer": "ipython3",
   "version": "3.12.7"
  }
 },
 "nbformat": 4,
 "nbformat_minor": 2
}
